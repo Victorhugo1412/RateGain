{
 "cells": [
  {
   "cell_type": "code",
   "execution_count": 1,
   "id": "e1d96bef",
   "metadata": {},
   "outputs": [],
   "source": [
    "import requests\n",
    "from bs4 import BeautifulSoup\n",
    "import pandas as pd\n",
    "userag=\"Mozilla/5.0 (Windows NT 10.0; Win64; x64) AppleWebKit/537.36 (KHTML, like Gecko) Chrome/119.0.0.0 Safari/537.36\"\n",
    "headers = {\"user-agent\": userag}"
   ]
  },
  {
   "cell_type": "code",
   "execution_count": 2,
   "id": "59bdf3ca",
   "metadata": {},
   "outputs": [],
   "source": [
    "dff = pd.DataFrame(columns=['Blog', 'Blog image URL', 'Like Count', 'Blog Date'])"
   ]
  },
  {
   "cell_type": "code",
   "execution_count": 3,
   "id": "00af706a",
   "metadata": {},
   "outputs": [],
   "source": [
    "for pno in range(1,46):\n",
    "    if(pno==1):\n",
    "        url=\"https://rategain.com/blog/\"\n",
    "    else:\n",
    "        url=\"https://rategain.com/blog/page/\"+str(pno)+\"/\"\n",
    "    cont=requests.get(url, headers=headers)\n",
    "    htmlc=cont.content\n",
    "    soup=BeautifulSoup(htmlc,'html.parser')\n",
    "    df = pd.DataFrame(columns=['Blog', 'Blog image URL', 'Like Count'])\n",
    "    blgdeets=soup.find_all('div', {'class': 'content'})\n",
    "    #dates=soup.find_all('div', {'class': 'bd-item'})\n",
    "    for blgdeet in blgdeets:\n",
    "        imgs=blgdeet.find_all('a')\n",
    "        for i in range(0,len(imgs),3):\n",
    "            new={'Blog': imgs[i].get_text(),'Blog image URL': imgs[i+1]['href'], 'Like Count': imgs[i+2].get_text()[1]}\n",
    "            df.loc[len(df)] = new\n",
    "    dates=soup.find_all('div', {'class': 'bd-item'})\n",
    "    bg_dt=[]\n",
    "    for date in dates[::2]:\n",
    "        bg_dt.append(date.find('span').get_text())\n",
    "    df['Blog Date']=bg_dt\n",
    "    dff=pd.concat([dff, df], ignore_index=True)"
   ]
  },
  {
   "cell_type": "code",
   "execution_count": 4,
   "id": "6b677652",
   "metadata": {},
   "outputs": [],
   "source": [
    "pd.DataFrame(dff).to_csv('Blog.csv')"
   ]
  },
  {
   "cell_type": "code",
   "execution_count": null,
   "id": "8d124fea",
   "metadata": {},
   "outputs": [],
   "source": []
  }
 ],
 "metadata": {
  "kernelspec": {
   "display_name": "Python 3 (ipykernel)",
   "language": "python",
   "name": "python3"
  },
  "language_info": {
   "codemirror_mode": {
    "name": "ipython",
    "version": 3
   },
   "file_extension": ".py",
   "mimetype": "text/x-python",
   "name": "python",
   "nbconvert_exporter": "python",
   "pygments_lexer": "ipython3",
   "version": "3.9.13"
  }
 },
 "nbformat": 4,
 "nbformat_minor": 5
}
